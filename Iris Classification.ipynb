{
 "cells": [
  {
   "cell_type": "markdown",
   "metadata": {},
   "source": [
    "# TensorFlow 2.x - Multiclass Classification\n",
    "\n",
    "\n",
    "## Dataset\n",
    "\n",
    "IRIS dataset is used in this kernel to demonstrate the multiclass classification using `TensorFlow 2.x`. This dataset has 5 features, out of which 4 features are numeric features and 1 is a categorical feature. "
   ]
  },
  {
   "cell_type": "markdown",
   "metadata": {
    "_cell_guid": "79c7e3d0-c299-4dcb-8224-4455121ee9b0",
    "_uuid": "d629ff2d2480ee46fbb7e2d37f6b5fab8052498a",
    "collapsed": true,
    "jupyter": {
     "outputs_hidden": true
    }
   },
   "source": [
    "## 1. Import dependent libraries"
   ]
  },
  {
   "cell_type": "code",
   "execution_count": 92,
   "metadata": {},
   "outputs": [],
   "source": [
    "import pandas as pd\n",
    "import numpy as np\n",
    "import os\n",
    "\n",
    "# Plotting libraries\n",
    "import matplotlib.pyplot as plt\n",
    "\n",
    "\n",
    "# SKLearn libraries\n",
    "from sklearn.preprocessing import LabelEncoder\n",
    "from sklearn.model_selection import train_test_split\n",
    "\n",
    "# Tensorflow libraries\n",
    "import tensorflow as tf\n",
    "from tensorflow import keras\n",
    "from tensorflow.keras.models import Sequential\n"
   ]
  },
  {
   "cell_type": "code",
   "execution_count": 3,
   "metadata": {},
   "outputs": [],
   "source": [
    "# Data file path\n",
    "FILE_PATH = '/kaggle/input/iris-flower-dataset/IRIS.csv'\n",
    "\n",
    "# Dataframe from csv file\n",
    "iris_data = pd.read_csv(FILE_PATH, header=0)"
   ]
  },
  {
   "cell_type": "code",
   "execution_count": 4,
   "metadata": {},
   "outputs": [
    {
     "name": "stdout",
     "output_type": "stream",
     "text": [
      "<class 'pandas.core.frame.DataFrame'>\n",
      "RangeIndex: 150 entries, 0 to 149\n",
      "Data columns (total 5 columns):\n",
      " #   Column        Non-Null Count  Dtype  \n",
      "---  ------        --------------  -----  \n",
      " 0   sepal_length  150 non-null    float64\n",
      " 1   sepal_width   150 non-null    float64\n",
      " 2   petal_length  150 non-null    float64\n",
      " 3   petal_width   150 non-null    float64\n",
      " 4   species       150 non-null    object \n",
      "dtypes: float64(4), object(1)\n",
      "memory usage: 6.0+ KB\n",
      "================================================================================\n"
     ]
    },
    {
     "data": {
      "text/html": [
       "<div>\n",
       "<style scoped>\n",
       "    .dataframe tbody tr th:only-of-type {\n",
       "        vertical-align: middle;\n",
       "    }\n",
       "\n",
       "    .dataframe tbody tr th {\n",
       "        vertical-align: top;\n",
       "    }\n",
       "\n",
       "    .dataframe thead th {\n",
       "        text-align: right;\n",
       "    }\n",
       "</style>\n",
       "<table border=\"1\" class=\"dataframe\">\n",
       "  <thead>\n",
       "    <tr style=\"text-align: right;\">\n",
       "      <th></th>\n",
       "      <th>sepal_length</th>\n",
       "      <th>sepal_width</th>\n",
       "      <th>petal_length</th>\n",
       "      <th>petal_width</th>\n",
       "      <th>species</th>\n",
       "    </tr>\n",
       "  </thead>\n",
       "  <tbody>\n",
       "    <tr>\n",
       "      <th>0</th>\n",
       "      <td>5.1</td>\n",
       "      <td>3.5</td>\n",
       "      <td>1.4</td>\n",
       "      <td>0.2</td>\n",
       "      <td>Iris-setosa</td>\n",
       "    </tr>\n",
       "    <tr>\n",
       "      <th>1</th>\n",
       "      <td>4.9</td>\n",
       "      <td>3.0</td>\n",
       "      <td>1.4</td>\n",
       "      <td>0.2</td>\n",
       "      <td>Iris-setosa</td>\n",
       "    </tr>\n",
       "    <tr>\n",
       "      <th>2</th>\n",
       "      <td>4.7</td>\n",
       "      <td>3.2</td>\n",
       "      <td>1.3</td>\n",
       "      <td>0.2</td>\n",
       "      <td>Iris-setosa</td>\n",
       "    </tr>\n",
       "    <tr>\n",
       "      <th>3</th>\n",
       "      <td>4.6</td>\n",
       "      <td>3.1</td>\n",
       "      <td>1.5</td>\n",
       "      <td>0.2</td>\n",
       "      <td>Iris-setosa</td>\n",
       "    </tr>\n",
       "    <tr>\n",
       "      <th>4</th>\n",
       "      <td>5.0</td>\n",
       "      <td>3.6</td>\n",
       "      <td>1.4</td>\n",
       "      <td>0.2</td>\n",
       "      <td>Iris-setosa</td>\n",
       "    </tr>\n",
       "    <tr>\n",
       "      <th>5</th>\n",
       "      <td>5.4</td>\n",
       "      <td>3.9</td>\n",
       "      <td>1.7</td>\n",
       "      <td>0.4</td>\n",
       "      <td>Iris-setosa</td>\n",
       "    </tr>\n",
       "    <tr>\n",
       "      <th>6</th>\n",
       "      <td>4.6</td>\n",
       "      <td>3.4</td>\n",
       "      <td>1.4</td>\n",
       "      <td>0.3</td>\n",
       "      <td>Iris-setosa</td>\n",
       "    </tr>\n",
       "    <tr>\n",
       "      <th>7</th>\n",
       "      <td>5.0</td>\n",
       "      <td>3.4</td>\n",
       "      <td>1.5</td>\n",
       "      <td>0.2</td>\n",
       "      <td>Iris-setosa</td>\n",
       "    </tr>\n",
       "    <tr>\n",
       "      <th>8</th>\n",
       "      <td>4.4</td>\n",
       "      <td>2.9</td>\n",
       "      <td>1.4</td>\n",
       "      <td>0.2</td>\n",
       "      <td>Iris-setosa</td>\n",
       "    </tr>\n",
       "    <tr>\n",
       "      <th>9</th>\n",
       "      <td>4.9</td>\n",
       "      <td>3.1</td>\n",
       "      <td>1.5</td>\n",
       "      <td>0.1</td>\n",
       "      <td>Iris-setosa</td>\n",
       "    </tr>\n",
       "  </tbody>\n",
       "</table>\n",
       "</div>"
      ],
      "text/plain": [
       "   sepal_length  sepal_width  petal_length  petal_width      species\n",
       "0           5.1          3.5           1.4          0.2  Iris-setosa\n",
       "1           4.9          3.0           1.4          0.2  Iris-setosa\n",
       "2           4.7          3.2           1.3          0.2  Iris-setosa\n",
       "3           4.6          3.1           1.5          0.2  Iris-setosa\n",
       "4           5.0          3.6           1.4          0.2  Iris-setosa\n",
       "5           5.4          3.9           1.7          0.4  Iris-setosa\n",
       "6           4.6          3.4           1.4          0.3  Iris-setosa\n",
       "7           5.0          3.4           1.5          0.2  Iris-setosa\n",
       "8           4.4          2.9           1.4          0.2  Iris-setosa\n",
       "9           4.9          3.1           1.5          0.1  Iris-setosa"
      ]
     },
     "execution_count": 4,
     "metadata": {},
     "output_type": "execute_result"
    }
   ],
   "source": [
    "iris_data.info()\n",
    "print(\"==\"*40)\n",
    "iris_data.head(10)"
   ]
  },
  {
   "cell_type": "markdown",
   "metadata": {},
   "source": [
    "## 2. Preparing dataset"
   ]
  },
  {
   "cell_type": "code",
   "execution_count": 78,
   "metadata": {},
   "outputs": [],
   "source": [
    "X = iris_data.loc[:, iris_data.columns != 'species']\n",
    "y = iris_data.loc[:, ['species']]"
   ]
  },
  {
   "cell_type": "code",
   "execution_count": 135,
   "metadata": {},
   "outputs": [
    {
     "name": "stderr",
     "output_type": "stream",
     "text": [
      "/opt/conda/lib/python3.7/site-packages/sklearn/utils/validation.py:73: DataConversionWarning: A column-vector y was passed when a 1d array was expected. Please change the shape of y to (n_samples, ), for example using ravel().\n",
      "  return f(**kwargs)\n"
     ]
    }
   ],
   "source": [
    "y_enc = LabelEncoder().fit_transform(y)\n",
    "# Converting the label into a matrix form\n",
    "y_label = tf.keras.utils.to_categorical(y_enc)"
   ]
  },
  {
   "cell_type": "code",
   "execution_count": 145,
   "metadata": {},
   "outputs": [],
   "source": [
    "# X_train_full, X_test, y_train_full, y_test = train_test_split(X, y_label, test_size=0.15)\n",
    "\n",
    "# Validation set\n",
    "# X_train, X_valid, y_train, y_valid = train_test_split(X_train_full, y_train_full)\n",
    "\n",
    "X_train, X_test, y_train, y_test = train_test_split(X, y_label, test_size=0.3)"
   ]
  },
  {
   "cell_type": "code",
   "execution_count": 146,
   "metadata": {},
   "outputs": [
    {
     "name": "stdout",
     "output_type": "stream",
     "text": [
      "Train shape : (105, 4), Y Train : (105, 3)\n",
      "(4,)\n"
     ]
    }
   ],
   "source": [
    "print(f\"Train shape : {X_train.shape}, Y Train : {y_train.shape}\")\n",
    "print(X_train.shape[1:])"
   ]
  },
  {
   "cell_type": "code",
   "execution_count": 173,
   "metadata": {},
   "outputs": [],
   "source": [
    "def get_model():\n",
    "    model = Sequential([\n",
    "        keras.layers.Input(shape=X_train.shape[1:]),\n",
    "        keras.layers.Dense(1000, activation='relu'),\n",
    "        keras.layers.Dense(500, activation='relu',),\n",
    "        keras.layers.Dense(300, activation='relu'),\n",
    "        keras.layers.Dropout(0.2),\n",
    "        keras.layers.Dense(3, activation='softmax')\n",
    "    ])\n",
    "    \n",
    "    return model"
   ]
  },
  {
   "cell_type": "code",
   "execution_count": 174,
   "metadata": {},
   "outputs": [
    {
     "name": "stdout",
     "output_type": "stream",
     "text": [
      "Model: \"sequential_18\"\n",
      "_________________________________________________________________\n",
      "Layer (type)                 Output Shape              Param #   \n",
      "=================================================================\n",
      "dense_58 (Dense)             (None, 1000)              5000      \n",
      "_________________________________________________________________\n",
      "dense_59 (Dense)             (None, 500)               500500    \n",
      "_________________________________________________________________\n",
      "dense_60 (Dense)             (None, 300)               150300    \n",
      "_________________________________________________________________\n",
      "dropout_6 (Dropout)          (None, 300)               0         \n",
      "_________________________________________________________________\n",
      "dense_61 (Dense)             (None, 3)                 903       \n",
      "=================================================================\n",
      "Total params: 656,703\n",
      "Trainable params: 656,703\n",
      "Non-trainable params: 0\n",
      "_________________________________________________________________\n"
     ]
    }
   ],
   "source": [
    "model.summary()"
   ]
  },
  {
   "cell_type": "code",
   "execution_count": 175,
   "metadata": {},
   "outputs": [],
   "source": [
    "model = get_model()\n",
    "\n",
    "# Compile the model\n",
    "model.compile(optimizer='adam', \n",
    "              loss=keras.losses.CategoricalCrossentropy(),\n",
    "             metrics=['accuracy'])"
   ]
  },
  {
   "cell_type": "code",
   "execution_count": 176,
   "metadata": {},
   "outputs": [
    {
     "name": "stdout",
     "output_type": "stream",
     "text": [
      "Epoch 1/30\n",
      "4/4 [==============================] - 0s 44ms/step - loss: 1.0422 - accuracy: 0.4857 - val_loss: 0.8049 - val_accuracy: 0.6444\n",
      "Epoch 2/30\n",
      "4/4 [==============================] - 0s 16ms/step - loss: 0.6904 - accuracy: 0.6952 - val_loss: 0.6565 - val_accuracy: 0.6222\n",
      "Epoch 3/30\n",
      "4/4 [==============================] - 0s 15ms/step - loss: 0.5119 - accuracy: 0.7143 - val_loss: 0.4218 - val_accuracy: 0.9556\n",
      "Epoch 4/30\n",
      "4/4 [==============================] - 0s 16ms/step - loss: 0.3930 - accuracy: 0.8000 - val_loss: 0.3668 - val_accuracy: 0.8667\n",
      "Epoch 5/30\n",
      "4/4 [==============================] - 0s 16ms/step - loss: 0.3214 - accuracy: 0.8857 - val_loss: 0.2851 - val_accuracy: 0.9333\n",
      "Epoch 6/30\n",
      "4/4 [==============================] - 0s 16ms/step - loss: 0.2755 - accuracy: 0.8857 - val_loss: 0.2438 - val_accuracy: 0.9333\n",
      "Epoch 7/30\n",
      "4/4 [==============================] - 0s 17ms/step - loss: 0.2300 - accuracy: 0.8857 - val_loss: 0.2661 - val_accuracy: 0.8667\n",
      "Epoch 8/30\n",
      "4/4 [==============================] - 0s 16ms/step - loss: 0.2710 - accuracy: 0.8762 - val_loss: 0.2583 - val_accuracy: 0.8889\n",
      "Epoch 9/30\n",
      "4/4 [==============================] - 0s 15ms/step - loss: 0.2588 - accuracy: 0.8857 - val_loss: 0.1607 - val_accuracy: 0.9556\n",
      "Epoch 10/30\n",
      "4/4 [==============================] - 0s 16ms/step - loss: 0.1668 - accuracy: 0.9429 - val_loss: 0.1421 - val_accuracy: 0.9333\n",
      "Epoch 11/30\n",
      "4/4 [==============================] - 0s 16ms/step - loss: 0.1965 - accuracy: 0.9238 - val_loss: 0.1115 - val_accuracy: 0.9556\n",
      "Epoch 12/30\n",
      "4/4 [==============================] - 0s 15ms/step - loss: 0.1229 - accuracy: 0.9810 - val_loss: 0.1008 - val_accuracy: 0.9778\n",
      "Epoch 13/30\n",
      "4/4 [==============================] - 0s 16ms/step - loss: 0.1141 - accuracy: 0.9429 - val_loss: 0.0957 - val_accuracy: 0.9556\n",
      "Epoch 14/30\n",
      "4/4 [==============================] - 0s 16ms/step - loss: 0.1043 - accuracy: 0.9810 - val_loss: 0.0886 - val_accuracy: 0.9556\n",
      "Epoch 15/30\n",
      "4/4 [==============================] - 0s 16ms/step - loss: 0.1368 - accuracy: 0.9333 - val_loss: 0.0881 - val_accuracy: 0.9556\n",
      "Epoch 16/30\n",
      "4/4 [==============================] - 0s 18ms/step - loss: 0.1457 - accuracy: 0.9429 - val_loss: 0.1987 - val_accuracy: 0.9333\n",
      "Epoch 17/30\n",
      "4/4 [==============================] - 0s 15ms/step - loss: 0.1144 - accuracy: 0.9619 - val_loss: 0.2207 - val_accuracy: 0.9111\n",
      "Epoch 18/30\n",
      "4/4 [==============================] - 0s 15ms/step - loss: 0.2121 - accuracy: 0.8952 - val_loss: 0.1111 - val_accuracy: 0.9556\n",
      "Epoch 19/30\n",
      "4/4 [==============================] - 0s 15ms/step - loss: 0.0945 - accuracy: 0.9714 - val_loss: 0.0919 - val_accuracy: 0.9556\n",
      "Epoch 20/30\n",
      "4/4 [==============================] - 0s 15ms/step - loss: 0.1184 - accuracy: 0.9429 - val_loss: 0.0809 - val_accuracy: 0.9778\n",
      "Epoch 21/30\n",
      "4/4 [==============================] - 0s 15ms/step - loss: 0.0755 - accuracy: 0.9905 - val_loss: 0.0961 - val_accuracy: 0.9556\n",
      "Epoch 22/30\n",
      "4/4 [==============================] - 0s 15ms/step - loss: 0.0760 - accuracy: 0.9810 - val_loss: 0.0802 - val_accuracy: 0.9778\n",
      "Epoch 23/30\n",
      "4/4 [==============================] - 0s 21ms/step - loss: 0.1346 - accuracy: 0.9238 - val_loss: 0.1216 - val_accuracy: 0.9556\n",
      "Epoch 24/30\n",
      "4/4 [==============================] - 0s 20ms/step - loss: 0.2103 - accuracy: 0.9333 - val_loss: 0.0719 - val_accuracy: 0.9778\n",
      "Epoch 25/30\n",
      "4/4 [==============================] - 0s 17ms/step - loss: 0.2841 - accuracy: 0.9048 - val_loss: 0.0856 - val_accuracy: 0.9556\n",
      "Epoch 26/30\n",
      "4/4 [==============================] - 0s 19ms/step - loss: 0.0760 - accuracy: 0.9714 - val_loss: 0.2128 - val_accuracy: 0.9333\n",
      "Epoch 27/30\n",
      "4/4 [==============================] - 0s 16ms/step - loss: 0.1658 - accuracy: 0.9238 - val_loss: 0.0801 - val_accuracy: 0.9778\n",
      "Epoch 28/30\n",
      "4/4 [==============================] - 0s 17ms/step - loss: 0.1423 - accuracy: 0.9333 - val_loss: 0.0925 - val_accuracy: 0.9333\n",
      "Epoch 29/30\n",
      "4/4 [==============================] - 0s 17ms/step - loss: 0.0712 - accuracy: 0.9810 - val_loss: 0.1382 - val_accuracy: 0.9556\n",
      "Epoch 30/30\n",
      "4/4 [==============================] - 0s 16ms/step - loss: 0.1355 - accuracy: 0.9524 - val_loss: 0.0683 - val_accuracy: 0.9556\n"
     ]
    }
   ],
   "source": [
    "history = model.fit(X_train, y_train, epochs=30, validation_data=(X_test, y_test), verbose=1)"
   ]
  },
  {
   "cell_type": "code",
   "execution_count": 177,
   "metadata": {},
   "outputs": [
    {
     "name": "stdout",
     "output_type": "stream",
     "text": [
      "2/2 [==============================] - 0s 2ms/step - loss: 0.0683 - accuracy: 0.9556\n"
     ]
    },
    {
     "data": {
      "text/plain": [
       "[0.06826890259981155, 0.9555555582046509]"
      ]
     },
     "execution_count": 177,
     "metadata": {},
     "output_type": "execute_result"
    }
   ],
   "source": [
    "model.evaluate(X_test, y_test)"
   ]
  },
  {
   "cell_type": "markdown",
   "metadata": {},
   "source": [
    "## Performance Monitor"
   ]
  },
  {
   "cell_type": "code",
   "execution_count": 178,
   "metadata": {},
   "outputs": [
    {
     "data": {
      "image/png": "[encoded data removed]",
      "text/plain": [
       "<Figure size 720x432 with 1 Axes>"
      ]
     },
     "metadata": {
      "needs_background": "light"
     },
     "output_type": "display_data"
    }
   ],
   "source": [
    "pd.DataFrame(history.history).plot(figsize=(10,6))\n",
    "plt.grid(True)\n",
    "plt.gca().set_ylim(0, 1)\n",
    "plt.show()"
   ]
  },
  {
   "cell_type": "code",
   "execution_count": 179,
   "metadata": {},
   "outputs": [
    {
     "name": "stdout",
     "output_type": "stream",
     "text": [
      "Actual data : [[0. 1. 0.]\n",
      " [0. 1. 0.]\n",
      " [1. 0. 0.]]\n",
      "1\n",
      "2\n",
      "0\n"
     ]
    }
   ],
   "source": [
    "new_data, y_actual = X_test[:3], y_test[:3]\n",
    "\n",
    "y_proba = model.predict(new_data)\n",
    "\n",
    "print(f\"Actual data : {y_actual}\")\n",
    "\n",
    "for pred in y_proba:\n",
    "    print(np.argmax(pred))"
   ]
  },
  {
   "cell_type": "code",
   "execution_count": null,
   "metadata": {},
   "outputs": [],
   "source": []
  }
 ],
 "metadata": {
  "kernelspec": {
   "display_name": "Python 3 (ipykernel)",
   "language": "python",
   "name": "python3"
  },
  "language_info": {
   "codemirror_mode": {
    "name": "ipython",
    "version": 3
   },
   "file_extension": ".py",
   "mimetype": "text/x-python",
   "name": "python",
   "nbconvert_exporter": "python",
   "pygments_lexer": "ipython3",
   "version": "3.11.7"
  }
 },
 "nbformat": 4,
 "nbformat_minor": 4
}
